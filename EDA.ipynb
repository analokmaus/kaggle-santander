{
 "cells": [
  {
   "cell_type": "code",
   "execution_count": 2,
   "metadata": {},
   "outputs": [],
   "source": [
    "%load_ext autoreload\n",
    "%autoreload 2"
   ]
  },
  {
   "cell_type": "code",
   "execution_count": 3,
   "metadata": {},
   "outputs": [
    {
     "data": {
      "application/vnd.jupyter.widget-view+json": {
       "model_id": "f3a13de217f24fd79ff0f76629d7b6b9",
       "version_major": 2,
       "version_minor": 0
      },
      "text/plain": [
       "HBox(children=(IntProgress(value=1, bar_style='info', max=1), HTML(value='')))"
      ]
     },
     "metadata": {},
     "output_type": "display_data"
    },
    {
     "name": "stdout",
     "output_type": "stream",
     "text": [
      "\n"
     ]
    }
   ],
   "source": [
    "import matplotlib.pyplot as plt\n",
    "import pandas as pd\n",
    "import numpy as np\n",
    "import os, sys, gc\n",
    "import random\n",
    "import math\n",
    "from tqdm import tqdm_notebook as tqdm\n",
    "tqdm().pandas()\n",
    "from multiprocessing import cpu_count, current_process\n",
    "import seaborn as sns\n",
    "from datetime import datetime\n",
    "from IPython.display import clear_output"
   ]
  },
  {
   "cell_type": "code",
   "execution_count": 4,
   "metadata": {},
   "outputs": [
    {
     "name": "stderr",
     "output_type": "stream",
     "text": [
      "/Users/CL4US/.pyenv/versions/finowcast/lib/python3.6/site-packages/lightgbm/__init__.py:46: UserWarning: Starting from version 2.2.1, the library file in distribution wheels for macOS is built by the Apple Clang (Xcode_8.3.3) compiler.\n",
      "This means that in case of installing LightGBM from PyPI via the ``pip install lightgbm`` command, you don't need to install the gcc compiler anymore.\n",
      "Instead of that, you need to install the OpenMP library, which is required for running LightGBM on the system with the Apple Clang compiler.\n",
      "You can install the OpenMP library by the following command: ``brew install libomp``.\n",
      "  \"You can install the OpenMP library by the following command: ``brew install libomp``.\", UserWarning)\n",
      "/Users/CL4US/.pyenv/versions/finowcast/lib/python3.6/site-packages/chainer/_environment_check.py:37: UserWarning: Accelerate has been detected as a NumPy backend library.\n",
      "vecLib, which is a part of Accelerate, is known not to work correctly with Chainer.\n",
      "We recommend using other BLAS libraries such as OpenBLAS.\n",
      "For details of the issue, please see\n",
      "https://docs.chainer.org/en/stable/tips.html#mnist-example-does-not-converge-in-cpu-mode-on-mac-os-x.\n",
      "\n",
      "Please be aware that Mac OS X is not an officially supported OS.\n",
      "\n",
      "  ''')  # NOQA\n",
      "Using TensorFlow backend.\n"
     ]
    }
   ],
   "source": [
    "import pickle\n",
    "import feather\n",
    "from imblearn.over_sampling import SMOTE\n",
    "from scipy.stats import skew, kurtosis\n",
    "from sklearn.model_selection import train_test_split, StratifiedKFold\n",
    "from sklearn.metrics import roc_curve, auc\n",
    "from sklearn.ensemble import RandomForestClassifier\n",
    "from sklearn.linear_model import Ridge\n",
    "from sklearn.preprocessing import StandardScaler\n",
    "from catboost import CatBoostRegressor, CatBoostClassifier, Pool, cv\n",
    "from lightgbm import LGBMClassifier\n",
    "from kuma_utils.BearBoost import BearBoostStacking\n",
    "from kuma_utils.ModelTuna import model_tuna, cross_validate\n",
    "from kuma_utils.PreProcessing import *#adversarial_validation, target_encoding, KMeansFeaturizer, parallel_apply, thread_wrapper"
   ]
  },
  {
   "cell_type": "code",
   "execution_count": 5,
   "metadata": {},
   "outputs": [],
   "source": [
    "# dir_data = '/mnt/gcs-bucket/kaggle/santander/'\n",
    "dir_data = 'rawdata'"
   ]
  },
  {
   "cell_type": "code",
   "execution_count": 6,
   "metadata": {},
   "outputs": [],
   "source": [
    "import warnings\n",
    "warnings.filterwarnings('ignore')"
   ]
  },
  {
   "cell_type": "markdown",
   "metadata": {},
   "source": [
    "# EDA"
   ]
  },
  {
   "cell_type": "code",
   "execution_count": 6,
   "metadata": {},
   "outputs": [],
   "source": [
    "# train_data = pd.read_csv('rawdata/train.csv', index_col=0)\n",
    "# test_data = pd.read_csv('rawdata/test.csv', index_col=0)"
   ]
  },
  {
   "cell_type": "code",
   "execution_count": 7,
   "metadata": {},
   "outputs": [],
   "source": [
    "# train_data = train_data.astype(np.float32)\n",
    "# train_data.target = train_data.target.astype(np.int8)\n",
    "# train_data.to_hdf('rawdata/train.hdf', key='data')\n",
    "# test_data = test_data.astype(np.float32)\n",
    "# test_data.to_hdf('rawdata/test.hdf', key='data')"
   ]
  },
  {
   "cell_type": "code",
   "execution_count": 7,
   "metadata": {},
   "outputs": [],
   "source": [
    "train_data = pd.read_hdf(os.path.join(dir_data, 'train.hdf'))\n",
    "test_data = pd.read_hdf(os.path.join(dir_data, 'test.hdf'))\n",
    "FEATURE_COL = test_data.columns"
   ]
  },
  {
   "cell_type": "code",
   "execution_count": 8,
   "metadata": {},
   "outputs": [],
   "source": [
    "train1 = train_data.query('target == 1')\n",
    "train0 = train_data.query('target == 0')\n",
    "y = train_data['target']"
   ]
  },
  {
   "cell_type": "code",
   "execution_count": 9,
   "metadata": {},
   "outputs": [
    {
     "data": {
      "text/html": [
       "<div>\n",
       "<style scoped>\n",
       "    .dataframe tbody tr th:only-of-type {\n",
       "        vertical-align: middle;\n",
       "    }\n",
       "\n",
       "    .dataframe tbody tr th {\n",
       "        vertical-align: top;\n",
       "    }\n",
       "\n",
       "    .dataframe thead th {\n",
       "        text-align: right;\n",
       "    }\n",
       "</style>\n",
       "<table border=\"1\" class=\"dataframe\">\n",
       "  <thead>\n",
       "    <tr style=\"text-align: right;\">\n",
       "      <th></th>\n",
       "      <th>target</th>\n",
       "      <th>var_0</th>\n",
       "      <th>var_1</th>\n",
       "      <th>var_2</th>\n",
       "      <th>var_3</th>\n",
       "      <th>var_4</th>\n",
       "      <th>var_5</th>\n",
       "      <th>var_6</th>\n",
       "      <th>var_7</th>\n",
       "      <th>var_8</th>\n",
       "      <th>...</th>\n",
       "      <th>var_190</th>\n",
       "      <th>var_191</th>\n",
       "      <th>var_192</th>\n",
       "      <th>var_193</th>\n",
       "      <th>var_194</th>\n",
       "      <th>var_195</th>\n",
       "      <th>var_196</th>\n",
       "      <th>var_197</th>\n",
       "      <th>var_198</th>\n",
       "      <th>var_199</th>\n",
       "    </tr>\n",
       "    <tr>\n",
       "      <th>ID_code</th>\n",
       "      <th></th>\n",
       "      <th></th>\n",
       "      <th></th>\n",
       "      <th></th>\n",
       "      <th></th>\n",
       "      <th></th>\n",
       "      <th></th>\n",
       "      <th></th>\n",
       "      <th></th>\n",
       "      <th></th>\n",
       "      <th></th>\n",
       "      <th></th>\n",
       "      <th></th>\n",
       "      <th></th>\n",
       "      <th></th>\n",
       "      <th></th>\n",
       "      <th></th>\n",
       "      <th></th>\n",
       "      <th></th>\n",
       "      <th></th>\n",
       "      <th></th>\n",
       "    </tr>\n",
       "  </thead>\n",
       "  <tbody>\n",
       "    <tr>\n",
       "      <th>train_0</th>\n",
       "      <td>0</td>\n",
       "      <td>8.9255</td>\n",
       "      <td>-6.7863</td>\n",
       "      <td>11.9081</td>\n",
       "      <td>5.0930</td>\n",
       "      <td>11.4607</td>\n",
       "      <td>-9.2834</td>\n",
       "      <td>5.1187</td>\n",
       "      <td>18.6266</td>\n",
       "      <td>-4.9200</td>\n",
       "      <td>...</td>\n",
       "      <td>4.4354</td>\n",
       "      <td>3.9642</td>\n",
       "      <td>3.1364</td>\n",
       "      <td>1.6910</td>\n",
       "      <td>18.522699</td>\n",
       "      <td>-2.3978</td>\n",
       "      <td>7.8784</td>\n",
       "      <td>8.5635</td>\n",
       "      <td>12.780300</td>\n",
       "      <td>-1.0914</td>\n",
       "    </tr>\n",
       "    <tr>\n",
       "      <th>train_1</th>\n",
       "      <td>0</td>\n",
       "      <td>11.5006</td>\n",
       "      <td>-4.1473</td>\n",
       "      <td>13.8588</td>\n",
       "      <td>5.3890</td>\n",
       "      <td>12.3622</td>\n",
       "      <td>7.0433</td>\n",
       "      <td>5.6208</td>\n",
       "      <td>16.5338</td>\n",
       "      <td>3.1468</td>\n",
       "      <td>...</td>\n",
       "      <td>7.6421</td>\n",
       "      <td>7.7214</td>\n",
       "      <td>2.5837</td>\n",
       "      <td>10.9516</td>\n",
       "      <td>15.430500</td>\n",
       "      <td>2.0339</td>\n",
       "      <td>8.1267</td>\n",
       "      <td>8.7889</td>\n",
       "      <td>18.356001</td>\n",
       "      <td>1.9518</td>\n",
       "    </tr>\n",
       "    <tr>\n",
       "      <th>train_2</th>\n",
       "      <td>0</td>\n",
       "      <td>8.6093</td>\n",
       "      <td>-2.7457</td>\n",
       "      <td>12.0805</td>\n",
       "      <td>7.8928</td>\n",
       "      <td>10.5825</td>\n",
       "      <td>-9.0837</td>\n",
       "      <td>6.9427</td>\n",
       "      <td>14.6155</td>\n",
       "      <td>-4.9193</td>\n",
       "      <td>...</td>\n",
       "      <td>2.9057</td>\n",
       "      <td>9.7905</td>\n",
       "      <td>1.6704</td>\n",
       "      <td>1.6858</td>\n",
       "      <td>21.604200</td>\n",
       "      <td>3.1417</td>\n",
       "      <td>-6.5213</td>\n",
       "      <td>8.2675</td>\n",
       "      <td>14.722200</td>\n",
       "      <td>0.3965</td>\n",
       "    </tr>\n",
       "    <tr>\n",
       "      <th>train_3</th>\n",
       "      <td>0</td>\n",
       "      <td>11.0604</td>\n",
       "      <td>-2.1518</td>\n",
       "      <td>8.9522</td>\n",
       "      <td>7.1957</td>\n",
       "      <td>12.5846</td>\n",
       "      <td>-1.8361</td>\n",
       "      <td>5.8428</td>\n",
       "      <td>14.9250</td>\n",
       "      <td>-5.8609</td>\n",
       "      <td>...</td>\n",
       "      <td>4.4666</td>\n",
       "      <td>4.7433</td>\n",
       "      <td>0.7178</td>\n",
       "      <td>1.4214</td>\n",
       "      <td>23.034700</td>\n",
       "      <td>-1.2706</td>\n",
       "      <td>-2.9275</td>\n",
       "      <td>10.2922</td>\n",
       "      <td>17.969700</td>\n",
       "      <td>-8.9996</td>\n",
       "    </tr>\n",
       "    <tr>\n",
       "      <th>train_4</th>\n",
       "      <td>0</td>\n",
       "      <td>9.8369</td>\n",
       "      <td>-1.4834</td>\n",
       "      <td>12.8746</td>\n",
       "      <td>6.6375</td>\n",
       "      <td>12.2772</td>\n",
       "      <td>2.4486</td>\n",
       "      <td>5.9405</td>\n",
       "      <td>19.2514</td>\n",
       "      <td>6.2654</td>\n",
       "      <td>...</td>\n",
       "      <td>-1.4905</td>\n",
       "      <td>9.5214</td>\n",
       "      <td>-0.1508</td>\n",
       "      <td>9.1942</td>\n",
       "      <td>13.287600</td>\n",
       "      <td>-1.5121</td>\n",
       "      <td>3.9267</td>\n",
       "      <td>9.5031</td>\n",
       "      <td>17.997400</td>\n",
       "      <td>-8.8104</td>\n",
       "    </tr>\n",
       "    <tr>\n",
       "      <th>train_5</th>\n",
       "      <td>0</td>\n",
       "      <td>11.4763</td>\n",
       "      <td>-2.3182</td>\n",
       "      <td>12.6080</td>\n",
       "      <td>8.6264</td>\n",
       "      <td>10.9621</td>\n",
       "      <td>3.5609</td>\n",
       "      <td>4.5322</td>\n",
       "      <td>15.2255</td>\n",
       "      <td>3.5855</td>\n",
       "      <td>...</td>\n",
       "      <td>-6.3068</td>\n",
       "      <td>6.6025</td>\n",
       "      <td>5.2912</td>\n",
       "      <td>0.4403</td>\n",
       "      <td>14.945200</td>\n",
       "      <td>1.0314</td>\n",
       "      <td>-3.6241</td>\n",
       "      <td>9.7670</td>\n",
       "      <td>12.580900</td>\n",
       "      <td>-4.7602</td>\n",
       "    </tr>\n",
       "    <tr>\n",
       "      <th>train_6</th>\n",
       "      <td>0</td>\n",
       "      <td>11.8091</td>\n",
       "      <td>-0.0832</td>\n",
       "      <td>9.3494</td>\n",
       "      <td>4.2916</td>\n",
       "      <td>11.1355</td>\n",
       "      <td>-8.0198</td>\n",
       "      <td>6.1961</td>\n",
       "      <td>12.0771</td>\n",
       "      <td>-4.3781</td>\n",
       "      <td>...</td>\n",
       "      <td>8.7830</td>\n",
       "      <td>6.4521</td>\n",
       "      <td>3.5325</td>\n",
       "      <td>0.1777</td>\n",
       "      <td>18.331400</td>\n",
       "      <td>0.5845</td>\n",
       "      <td>9.1104</td>\n",
       "      <td>9.1143</td>\n",
       "      <td>10.886900</td>\n",
       "      <td>-3.2097</td>\n",
       "    </tr>\n",
       "    <tr>\n",
       "      <th>train_7</th>\n",
       "      <td>0</td>\n",
       "      <td>13.5580</td>\n",
       "      <td>-7.9881</td>\n",
       "      <td>13.8776</td>\n",
       "      <td>7.5985</td>\n",
       "      <td>8.6543</td>\n",
       "      <td>0.8310</td>\n",
       "      <td>5.6890</td>\n",
       "      <td>22.3262</td>\n",
       "      <td>5.0647</td>\n",
       "      <td>...</td>\n",
       "      <td>13.1700</td>\n",
       "      <td>6.5491</td>\n",
       "      <td>3.9906</td>\n",
       "      <td>5.8061</td>\n",
       "      <td>23.140699</td>\n",
       "      <td>-0.3776</td>\n",
       "      <td>4.2178</td>\n",
       "      <td>9.4237</td>\n",
       "      <td>8.662400</td>\n",
       "      <td>3.4806</td>\n",
       "    </tr>\n",
       "    <tr>\n",
       "      <th>train_8</th>\n",
       "      <td>0</td>\n",
       "      <td>16.1071</td>\n",
       "      <td>2.4426</td>\n",
       "      <td>13.9307</td>\n",
       "      <td>5.6327</td>\n",
       "      <td>8.8014</td>\n",
       "      <td>6.1630</td>\n",
       "      <td>4.4514</td>\n",
       "      <td>10.1854</td>\n",
       "      <td>-3.1882</td>\n",
       "      <td>...</td>\n",
       "      <td>1.4298</td>\n",
       "      <td>14.7510</td>\n",
       "      <td>1.6395</td>\n",
       "      <td>1.4181</td>\n",
       "      <td>14.837000</td>\n",
       "      <td>-1.9940</td>\n",
       "      <td>-1.0733</td>\n",
       "      <td>8.1975</td>\n",
       "      <td>19.511400</td>\n",
       "      <td>4.8453</td>\n",
       "    </tr>\n",
       "    <tr>\n",
       "      <th>train_9</th>\n",
       "      <td>0</td>\n",
       "      <td>12.5088</td>\n",
       "      <td>1.9743</td>\n",
       "      <td>8.8960</td>\n",
       "      <td>5.4508</td>\n",
       "      <td>13.6043</td>\n",
       "      <td>-16.2859</td>\n",
       "      <td>6.0637</td>\n",
       "      <td>16.8410</td>\n",
       "      <td>0.1287</td>\n",
       "      <td>...</td>\n",
       "      <td>0.5543</td>\n",
       "      <td>6.3160</td>\n",
       "      <td>1.0371</td>\n",
       "      <td>3.6885</td>\n",
       "      <td>14.834400</td>\n",
       "      <td>0.4467</td>\n",
       "      <td>14.1287</td>\n",
       "      <td>7.9133</td>\n",
       "      <td>16.237499</td>\n",
       "      <td>14.2514</td>\n",
       "    </tr>\n",
       "  </tbody>\n",
       "</table>\n",
       "<p>10 rows × 201 columns</p>\n",
       "</div>"
      ],
      "text/plain": [
       "         target    var_0   var_1    var_2   var_3    var_4    var_5   var_6  \\\n",
       "ID_code                                                                       \n",
       "train_0       0   8.9255 -6.7863  11.9081  5.0930  11.4607  -9.2834  5.1187   \n",
       "train_1       0  11.5006 -4.1473  13.8588  5.3890  12.3622   7.0433  5.6208   \n",
       "train_2       0   8.6093 -2.7457  12.0805  7.8928  10.5825  -9.0837  6.9427   \n",
       "train_3       0  11.0604 -2.1518   8.9522  7.1957  12.5846  -1.8361  5.8428   \n",
       "train_4       0   9.8369 -1.4834  12.8746  6.6375  12.2772   2.4486  5.9405   \n",
       "train_5       0  11.4763 -2.3182  12.6080  8.6264  10.9621   3.5609  4.5322   \n",
       "train_6       0  11.8091 -0.0832   9.3494  4.2916  11.1355  -8.0198  6.1961   \n",
       "train_7       0  13.5580 -7.9881  13.8776  7.5985   8.6543   0.8310  5.6890   \n",
       "train_8       0  16.1071  2.4426  13.9307  5.6327   8.8014   6.1630  4.4514   \n",
       "train_9       0  12.5088  1.9743   8.8960  5.4508  13.6043 -16.2859  6.0637   \n",
       "\n",
       "           var_7   var_8  ...  var_190  var_191  var_192  var_193    var_194  \\\n",
       "ID_code                   ...                                                  \n",
       "train_0  18.6266 -4.9200  ...   4.4354   3.9642   3.1364   1.6910  18.522699   \n",
       "train_1  16.5338  3.1468  ...   7.6421   7.7214   2.5837  10.9516  15.430500   \n",
       "train_2  14.6155 -4.9193  ...   2.9057   9.7905   1.6704   1.6858  21.604200   \n",
       "train_3  14.9250 -5.8609  ...   4.4666   4.7433   0.7178   1.4214  23.034700   \n",
       "train_4  19.2514  6.2654  ...  -1.4905   9.5214  -0.1508   9.1942  13.287600   \n",
       "train_5  15.2255  3.5855  ...  -6.3068   6.6025   5.2912   0.4403  14.945200   \n",
       "train_6  12.0771 -4.3781  ...   8.7830   6.4521   3.5325   0.1777  18.331400   \n",
       "train_7  22.3262  5.0647  ...  13.1700   6.5491   3.9906   5.8061  23.140699   \n",
       "train_8  10.1854 -3.1882  ...   1.4298  14.7510   1.6395   1.4181  14.837000   \n",
       "train_9  16.8410  0.1287  ...   0.5543   6.3160   1.0371   3.6885  14.834400   \n",
       "\n",
       "         var_195  var_196  var_197    var_198  var_199  \n",
       "ID_code                                                 \n",
       "train_0  -2.3978   7.8784   8.5635  12.780300  -1.0914  \n",
       "train_1   2.0339   8.1267   8.7889  18.356001   1.9518  \n",
       "train_2   3.1417  -6.5213   8.2675  14.722200   0.3965  \n",
       "train_3  -1.2706  -2.9275  10.2922  17.969700  -8.9996  \n",
       "train_4  -1.5121   3.9267   9.5031  17.997400  -8.8104  \n",
       "train_5   1.0314  -3.6241   9.7670  12.580900  -4.7602  \n",
       "train_6   0.5845   9.1104   9.1143  10.886900  -3.2097  \n",
       "train_7  -0.3776   4.2178   9.4237   8.662400   3.4806  \n",
       "train_8  -1.9940  -1.0733   8.1975  19.511400   4.8453  \n",
       "train_9   0.4467  14.1287   7.9133  16.237499  14.2514  \n",
       "\n",
       "[10 rows x 201 columns]"
      ]
     },
     "execution_count": 9,
     "metadata": {},
     "output_type": "execute_result"
    }
   ],
   "source": [
    "train_data.head(10)"
   ]
  },
  {
   "cell_type": "code",
   "execution_count": 11,
   "metadata": {},
   "outputs": [
    {
     "data": {
      "text/plain": [
       "((200000, 201), (200000, 200))"
      ]
     },
     "execution_count": 11,
     "metadata": {},
     "output_type": "execute_result"
    }
   ],
   "source": [
    "train_data.shape, test_data.shape"
   ]
  },
  {
   "cell_type": "code",
   "execution_count": 12,
   "metadata": {},
   "outputs": [
    {
     "data": {
      "text/plain": [
       "0    179902\n",
       "1     20098\n",
       "Name: target, dtype: int64"
      ]
     },
     "execution_count": 12,
     "metadata": {},
     "output_type": "execute_result"
    }
   ],
   "source": [
    "train_data.target.value_counts()"
   ]
  },
  {
   "cell_type": "markdown",
   "metadata": {},
   "source": [
    "## Public/Private/Systhesized "
   ]
  },
  {
   "cell_type": "code",
   "execution_count": 37,
   "metadata": {},
   "outputs": [],
   "source": [
    "public_lb_idx = np.load(os.path.join(dir_data, 'public_LB.npy'))\n",
    "private_lb_idx = np.load(os.path.join(dir_data, 'private_LB.npy'))\n",
    "synthesized_idx = np.load(os.path.join(dir_data, 'synthetic_samples_indexes.npy'))"
   ]
  },
  {
   "cell_type": "code",
   "execution_count": null,
   "metadata": {},
   "outputs": [],
   "source": [
    "train_unique45 = set(train_data['var_45'].unique())\n",
    "test_unique45 = set(test_data['var_45'].unique())\n",
    "print(len(train_unique45), len(test_unique45), len(train_unique45 & test_unique45))"
   ]
  },
  {
   "cell_type": "code",
   "execution_count": null,
   "metadata": {},
   "outputs": [],
   "source": [
    "test_unique45_public = set(test_data.iloc[public_lb_idx]['var_45'].unique())\n",
    "print(len(train_unique45), len(test_unique45_public), len(train_unique45 & test_unique45_public))"
   ]
  },
  {
   "cell_type": "code",
   "execution_count": null,
   "metadata": {},
   "outputs": [],
   "source": [
    "test_unique45_private = set(test_data.iloc[private_lb_idx]['var_45'].unique())\n",
    "print(len(train_unique45), len(test_unique45_private), len(train_unique45 & test_unique45_private))"
   ]
  },
  {
   "cell_type": "code",
   "execution_count": null,
   "metadata": {},
   "outputs": [],
   "source": [
    "test_unique45_syn = set(test_data.iloc[synthesized_idx]['var_45'].unique())\n",
    "print(len(train_unique45), len(test_unique45_syn), len(train_unique45 & test_unique45_syn))"
   ]
  },
  {
   "cell_type": "markdown",
   "metadata": {},
   "source": [
    "## Visualize all variables"
   ]
  },
  {
   "cell_type": "code",
   "execution_count": null,
   "metadata": {},
   "outputs": [],
   "source": [
    "plt.figure(figsize=(40, 125))\n",
    "for i,col in enumerate(test_data.columns):\n",
    "    ax = plt.subplot(25, 8, 1+i)\n",
    "    sns.distplot(train_data[col])\n",
    "#     sns.distplot(train1[col])\n",
    "#     sns.distplot(train0[col])"
   ]
  },
  {
   "cell_type": "code",
   "execution_count": null,
   "metadata": {},
   "outputs": [],
   "source": [
    "plt.figure(figsize=(40, 125))\n",
    "for i,col in enumerate(test_data.columns):\n",
    "    ax = plt.subplot(25, 8, 1+i)\n",
    "    diff_hist = np.histogram(train_data[col].loc[train1.index], bins=100, density=True)[0] - \\\n",
    "                np.histogram(train_data[col].loc[train0.index], bins=100, density=True)[0]\n",
    "    plt.plot(diff_hist)"
   ]
  },
  {
   "cell_type": "code",
   "execution_count": 622,
   "metadata": {},
   "outputs": [],
   "source": [
    "# plt.figure(figsize=(40, 5))\n",
    "# for i,col in enumerate(test_data.columns[0:10]):\n",
    "#     sns.distplot(train_data[col])"
   ]
  },
  {
   "cell_type": "code",
   "execution_count": 11,
   "metadata": {},
   "outputs": [],
   "source": [
    "def col_hist(cols=[]):\n",
    "    for col in cols:\n",
    "        ax = train_data.loc[train_data.target == 1, col].plot(label=1, kind='hist', histtype='step', \n",
    "                                                              alpha=0.5, density=True, bins=50)\n",
    "        train_data.loc[train_data.target == 0, col].plot(ax=ax, label=0, kind='hist', histtype='step', \n",
    "                                                         alpha=0.5, density=True, bins=50)"
   ]
  },
  {
   "cell_type": "code",
   "execution_count": 46,
   "metadata": {},
   "outputs": [],
   "source": [
    "trans_f.to_hdf(os.path.join(dir_data, 'trans_features.hdf'), key='data')"
   ]
  },
  {
   "cell_type": "code",
   "execution_count": null,
   "metadata": {},
   "outputs": [],
   "source": [
    "_, adversarial_cols = ks_test_df(train_data, test_data)"
   ]
  },
  {
   "cell_type": "code",
   "execution_count": null,
   "metadata": {
    "scrolled": true
   },
   "outputs": [],
   "source": [
    "suspicious_cols, normal_cols = ks_test_df(train_data.query('target == 0'), train_data.query('target == 1'), plot=-1)"
   ]
  },
  {
   "cell_type": "code",
   "execution_count": 22,
   "metadata": {},
   "outputs": [],
   "source": [
    "def cos_sim(v1, v2):\n",
    "    return np.dot(v1, v2) / (np.linalg.norm(v1) * np.linalg.norm(v2))"
   ]
  },
  {
   "cell_type": "code",
   "execution_count": null,
   "metadata": {},
   "outputs": [],
   "source": [
    "plt.figure(figsize=(4/0, 125))\n",
    "for i,col in enumerate(test_data.columns):\n",
    "    ax = plt.subplot(25, 8, 1+i)\n",
    "    sns.distplot(train_data[col].value_counts(normalize=True))"
   ]
  },
  {
   "cell_type": "code",
   "execution_count": 211,
   "metadata": {},
   "outputs": [
    {
     "data": {
      "text/plain": [
       "<matplotlib.axes._subplots.AxesSubplot at 0x1ba35cf60>"
      ]
     },
     "execution_count": 211,
     "metadata": {},
     "output_type": "execute_result"
    },
    {
     "data": {
      "image/png": "[encoded data removed]",
      "text/plain": [
       "<Figure size 432x432 with 1 Axes>"
      ]
     },
     "metadata": {
      "needs_background": "light"
     },
     "output_type": "display_data"
    }
   ],
   "source": [
    "plt.figure(figsize=(6,6))\n",
    "sns.distplot(train_data['var_45'].value_counts(normalize=True))"
   ]
  },
  {
   "cell_type": "markdown",
   "metadata": {},
   "source": [
    "---\n",
    "## Var_68"
   ]
  },
  {
   "cell_type": "code",
   "execution_count": 707,
   "metadata": {},
   "outputs": [],
   "source": [
    "def agg_features(data, group_col='var_68'):\n",
    "    new_features = pd.DataFrame()\n",
    "    for idx, group in tqdm(data.groupby(group_col)):\n",
    "        group = group.drop(group_col, axis=1)\n",
    "        sns.distplot(group.loc[group['target'] == 1, 'var_12'])\n",
    "        sns.distplot(group.loc[group['target'] == 0, 'var_12'])\n",
    "#         tmp_features = pd.DataFrame()\n",
    "#         for col in group.columns:\n",
    "#             mean_col = np.mean(group[col])\n",
    "#             tmp_features[col] = group[col] - mean_col\n",
    "#         new_features = pd.concat([new_features, tmp_features])\n",
    "        break\n",
    "    return new_features"
   ]
  },
  {
   "cell_type": "code",
   "execution_count": 710,
   "metadata": {},
   "outputs": [],
   "source": [
    "group = train_data.query('var_68 == 5.0214')"
   ]
  },
  {
   "cell_type": "code",
   "execution_count": 714,
   "metadata": {},
   "outputs": [
    {
     "data": {
      "text/plain": [
       "<matplotlib.axes._subplots.AxesSubplot at 0x187a9c8d0>"
      ]
     },
     "execution_count": 714,
     "metadata": {},
     "output_type": "execute_result"
    },
    {
     "data": {
      "image/png": "[encoded data removed]",
      "text/plain": [
       "<Figure size 432x288 with 1 Axes>"
      ]
     },
     "metadata": {
      "needs_background": "light"
     },
     "output_type": "display_data"
    }
   ],
   "source": [
    "sns.distplot(group.loc[group['target'] == 1, 'var_12'], bins=100)\n",
    "sns.distplot(group.loc[group['target'] == 0, 'var_12'], bins=100)"
   ]
  },
  {
   "cell_type": "markdown",
   "metadata": {},
   "source": [
    "---\n",
    "# Categorize variables"
   ]
  },
  {
   "cell_type": "code",
   "execution_count": 62,
   "metadata": {},
   "outputs": [],
   "source": [
    "sc = StandardScaler()\n",
    "normalized_train = pd.DataFrame(sc.fit_transform(train_data.drop('target', axis=1).values), \n",
    "                                columns=test_data.columns, index=train_data.index)"
   ]
  },
  {
   "cell_type": "code",
   "execution_count": 20,
   "metadata": {},
   "outputs": [],
   "source": [
    "desc = normalized_train.describe()"
   ]
  },
  {
   "cell_type": "code",
   "execution_count": 46,
   "metadata": {},
   "outputs": [],
   "source": [
    "normalized1 = normalized_train[train_data['target'] == 1]\n",
    "normalized0 = normalized_train[train_data['target'] == 0]\n",
    "desc1 = normalized1.describe()\n",
    "desc0 = normalized0.describe()"
   ]
  },
  {
   "cell_type": "code",
   "execution_count": 22,
   "metadata": {},
   "outputs": [
    {
     "data": {
      "text/plain": [
       "<matplotlib.axes._subplots.AxesSubplot at 0x7ff6dac6c320>"
      ]
     },
     "execution_count": 22,
     "metadata": {},
     "output_type": "execute_result"
    },
    {
     "data": {
      "image/png": "[encoded data removed]",
      "text/plain": [
       "<Figure size 720x720 with 1 Axes>"
      ]
     },
     "metadata": {
      "needs_background": "light"
     },
     "output_type": "display_data"
    }
   ],
   "source": [
    "ax = desc1.T.plot(x='25%', y='75%', kind='scatter', figsize=(10,10), color='red')\n",
    "desc0.T.plot(ax=ax, x='25%', y='75%', kind='scatter', figsize=(10,10), color='green')"
   ]
  },
  {
   "cell_type": "markdown",
   "metadata": {},
   "source": [
    "---\n",
    "# Random Vector"
   ]
  },
  {
   "cell_type": "code",
   "execution_count": 59,
   "metadata": {},
   "outputs": [],
   "source": [
    "def get_angle(arr):\n",
    "    x = arr[0:2]\n",
    "    y = arr[2:]\n",
    "    dot_xy = np.dot(x, y)\n",
    "    norm_x = np.linalg.norm(x)\n",
    "    norm_y = np.linalg.norm(y)\n",
    "    cos = dot_xy / (norm_x*norm_y)\n",
    "    rad = np.arccos(cos)\n",
    "    return rad\n",
    "\n",
    "def randvec_features(data, y=None, n_vecs=20):\n",
    "    new_features = pd.DataFrame()\n",
    "    pos_idx = y[y == 1].index[0:9000]\n",
    "    neg_idx = y[y == 0].index[0:1000]\n",
    "    test_df = pd.concat([data.loc[pos_idx], data.loc[neg_idx]])\n",
    "    test_y = pd.concat([y[pos_idx], y[neg_idx]])\n",
    "    for seed in tqdm(range(n_vecs)):\n",
    "        test_angle = test_df.sample(n=4, axis=1, random_state=seed)\n",
    "        t_angle = test_angle.apply(lambda x: get_angle(x.values), axis=1)\n",
    "        if y is not None:\n",
    "            corr = np.corrcoef(t_angle, test_y)[0, 1]\n",
    "#             print(corr)\n",
    "            if corr > 0.05:\n",
    "                print(test_angle.columns)\n",
    "                print(corr)\n",
    "                angle_df = data[test_angle.columns]\n",
    "                new_features['vec_{}'.format(seed)] = angle_df.apply(lambda x: get_angle(x.values), axis=1)\n",
    "    return new_features"
   ]
  },
  {
   "cell_type": "code",
   "execution_count": 111,
   "metadata": {
    "scrolled": false
   },
   "outputs": [],
   "source": [
    "# imp_cols = [81, 139, 12, 146, 76, 174, 21, 80, 166, 165, 13, 148, 198,\n",
    "# 34, 115, 109, 44, 169, 149, 92, 108, 154, 33, 9, 192, 122, 121,\n",
    "# 86, 123, 107, 127, 36, 172, 75, 177, 197, 87, 56, 93, 188, 131,\n",
    "# 186, 141, 43, 104, 150, 31, 132, 23, 114, 58, 28, 116, 85, 194, 83]\n",
    "\n",
    "# randvec_f = randvec_features(train_data.drop('target', axis=1).iloc[:, imp_cols], train_data['target'], 100)"
   ]
  },
  {
   "cell_type": "code",
   "execution_count": 63,
   "metadata": {},
   "outputs": [],
   "source": [
    "randvec_f.to_hdf(os.path.join(dir_data, 'randvec_features.hdf'), key='data')"
   ]
  },
  {
   "cell_type": "code",
   "execution_count": 33,
   "metadata": {},
   "outputs": [],
   "source": [
    "randvec_f['target'] = train_data['target']"
   ]
  },
  {
   "cell_type": "markdown",
   "metadata": {},
   "source": [
    "---\n",
    "# EM Algorithm"
   ]
  },
  {
   "cell_type": "code",
   "execution_count": 716,
   "metadata": {},
   "outputs": [],
   "source": [
    "from sklearn.mixture import GaussianMixture as GMM\n",
    "from scipy import signal"
   ]
  },
  {
   "cell_type": "code",
   "execution_count": 717,
   "metadata": {},
   "outputs": [
    {
     "data": {
      "text/plain": [
       "[<matplotlib.lines.Line2D at 0x196617128>]"
      ]
     },
     "execution_count": 717,
     "metadata": {},
     "output_type": "execute_result"
    },
    {
     "data": {
      "image/png": "[encoded data removed]",
      "text/plain": [
       "<Figure size 432x288 with 1 Axes>"
      ]
     },
     "metadata": {
      "needs_background": "light"
     },
     "output_type": "display_data"
    }
   ],
   "source": [
    "sns.distplot(train_data[['var_0']])\n",
    "data = train_data[['var_0']].values.reshape(-1,1)\n",
    "grid = np.linspace(data.min(), data.max(), num=1000)\n",
    "gmm = GMM(n_components=3, reg_covar=0.01)\n",
    "gmm.fit(data)\n",
    "labels = gmm.score_samples(grid.reshape(-1,1))\n",
    "plt.plot(grid, np.exp(labels))"
   ]
  },
  {
   "cell_type": "code",
   "execution_count": 718,
   "metadata": {},
   "outputs": [],
   "source": [
    "def gmm_features(data):\n",
    "    gmm=GMM(n_components=3, max_iter=100)\n",
    "    new_features = pd.DataFrame()\n",
    "    for col in tqdm(data.columns):\n",
    "        if col == 'target':\n",
    "            continue\n",
    "        new_features['c_{}'.format(col)] = gmm.fit_predict(data[col].values.reshape(-1,1))\n",
    "    new_features.index = data.index\n",
    "    return new_features"
   ]
  },
  {
   "cell_type": "code",
   "execution_count": 206,
   "metadata": {},
   "outputs": [
    {
     "data": {
      "application/vnd.jupyter.widget-view+json": {
       "model_id": "00402d03170e49cab580b4c74da26e08",
       "version_major": 2,
       "version_minor": 0
      },
      "text/plain": [
       "HBox(children=(IntProgress(value=0, max=201), HTML(value='')))"
      ]
     },
     "metadata": {},
     "output_type": "display_data"
    },
    {
     "name": "stdout",
     "output_type": "stream",
     "text": [
      "\n"
     ]
    }
   ],
   "source": [
    "gmm_f = gmm_features(train_data)"
   ]
  },
  {
   "cell_type": "code",
   "execution_count": 224,
   "metadata": {},
   "outputs": [],
   "source": [
    "gmm_f#.to_hdf(os.path.join(dir_data, 'gmm_f.hdf'), key='data')"
   ]
  },
  {
   "cell_type": "code",
   "execution_count": null,
   "metadata": {},
   "outputs": [],
   "source": [
    "reverse_list = [0,1,2,3,4,5,6,7,8,11,15,16,18,19,\n",
    "                22,24,25,26,27,41,29,\n",
    "                32,35,37,40,48,49,47,\n",
    "                55,51,52,53,60,61,62,103,65,66,67,69,\n",
    "                70,71,74,78,79,\n",
    "                82,84,89,90,91,94,95,96,97,99,\n",
    "                105,106,110,111,112,118,119,125,128,\n",
    "                130,133,134,135,137,\n",
    "                140,144,145,147,151,155,157,159,\n",
    "                161,162,163,164,167,168,\n",
    "                170,171,173,175,176,179,\n",
    "                180,181,184,185,187,189,\n",
    "                190,191,195,196,199]"
   ]
  },
  {
   "cell_type": "code",
   "execution_count": 128,
   "metadata": {},
   "outputs": [],
   "source": [
    "def dist_plot(data, cols):\n",
    "    plt.figure(figsize=(12,6))\n",
    "    plt.subplot(121)\n",
    "    for col in cols:\n",
    "        sns.distplot(data[col])\n",
    "    plt.subplot(122)\n",
    "    for col in cols:\n",
    "        sns.distplot(data[col].value_counts())\n",
    "    plt.show()"
   ]
  },
  {
   "cell_type": "code",
   "execution_count": 129,
   "metadata": {},
   "outputs": [
    {
     "data": {
      "image/png": "[encoded data removed]",
      "text/plain": [
       "<Figure size 864x432 with 2 Axes>"
      ]
     },
     "metadata": {
      "needs_background": "light"
     },
     "output_type": "display_data"
    }
   ],
   "source": [
    "dist_plot(train_data, ['var_0', 'var_2'])"
   ]
  },
  {
   "cell_type": "code",
   "execution_count": 169,
   "metadata": {},
   "outputs": [],
   "source": [
    "# ax = train_data[['var_13', 'var_123', 'var_80']].rank().sample(500).T.plot(figsize=(5,10), color='red', alpha=0.1)\n",
    "# ax.get_legend().remove()"
   ]
  },
  {
   "cell_type": "code",
   "execution_count": 171,
   "metadata": {},
   "outputs": [],
   "source": [
    "random_data = pd.DataFrame()\n",
    "random_data[0] = np.random.normal(10, 5, 200000)\n",
    "random_data[1] = np.random.normal(8, 7, 200000)\n",
    "random_data[2] = np.random.normal(3, 7, 200000)\n",
    "random_data = random_data.round(4)"
   ]
  },
  {
   "cell_type": "code",
   "execution_count": 170,
   "metadata": {},
   "outputs": [],
   "source": [
    "# ax = random_data.rank().sample(500).T.plot(figsize=(5,10), color='r', alpha=0.1)\n",
    "# ax.get_legend().remove()"
   ]
  },
  {
   "cell_type": "code",
   "execution_count": 172,
   "metadata": {
    "scrolled": false
   },
   "outputs": [],
   "source": [
    "# ax = train_data[['var_13', 'var_123', 'var_80']].diff(axis=1).iloc[:,1:].sample(500).T.plot(figsize=(5,10), color='r', alpha=0.1)\n",
    "# ax.get_legend().remove()"
   ]
  },
  {
   "cell_type": "code",
   "execution_count": 173,
   "metadata": {},
   "outputs": [],
   "source": [
    "# ax = random_data.diff(axis=1).iloc[:,1:].sample(500).T.plot(figsize=(5,10), color='r', alpha=0.1)\n",
    "# ax.get_legend().remove()"
   ]
  },
  {
   "cell_type": "code",
   "execution_count": 213,
   "metadata": {},
   "outputs": [],
   "source": [
    "def get_change(data, cols):\n",
    "    diff = data[cols].diff(axis=1).diff(axis=1).iloc[:, 2]\n",
    "    return diff"
   ]
  },
  {
   "cell_type": "markdown",
   "metadata": {},
   "source": [
    "# Separate values according to their freq"
   ]
  },
  {
   "cell_type": "code",
   "execution_count": 427,
   "metadata": {},
   "outputs": [
    {
     "data": {
      "text/plain": [
       "<matplotlib.axes._subplots.AxesSubplot at 0x2944d05f8>"
      ]
     },
     "execution_count": 427,
     "metadata": {},
     "output_type": "execute_result"
    },
    {
     "data": {
      "image/png": "[encoded data removed]",
      "text/plain": [
       "<Figure size 576x288 with 2 Axes>"
      ]
     },
     "metadata": {
      "needs_background": "light"
     },
     "output_type": "display_data"
    }
   ],
   "source": [
    "val_cnt = random_data[0].value_counts(normalize=True)\n",
    "plt.figure(figsize=(8,4))\n",
    "plt.subplot('121')\n",
    "sns.distplot(val_cnt, bins=100)\n",
    "plt.subplot('122')\n",
    "val_cnt_r = pd.Series(val_cnt.index.values, index=val_cnt)\n",
    "sns.distplot(val_cnt_r[val_cnt_r.index > np.median(val_cnt.unique())/2], bins=100)\n",
    "sns.distplot(val_cnt_r[val_cnt_r.index <= np.median(val_cnt.unique())/2], bins=100)"
   ]
  },
  {
   "cell_type": "code",
   "execution_count": 421,
   "metadata": {},
   "outputs": [
    {
     "data": {
      "text/plain": [
       "<matplotlib.axes._subplots.AxesSubplot at 0x2945b3f98>"
      ]
     },
     "execution_count": 421,
     "metadata": {},
     "output_type": "execute_result"
    },
    {
     "data": {
      "image/png": "[encoded data removed]",
      "text/plain": [
       "<Figure size 576x288 with 2 Axes>"
      ]
     },
     "metadata": {
      "needs_background": "light"
     },
     "output_type": "display_data"
    }
   ],
   "source": [
    "val_cnt = train_data['var_12'].value_counts(normalize=True)\n",
    "plt.figure(figsize=(8,4))\n",
    "plt.subplot('121')\n",
    "val_cnt_r = pd.Series(val_cnt.index.values, index=val_cnt)\n",
    "sns.distplot(val_cnt, bins=100)\n",
    "plt.subplot('122')\n",
    "sns.distplot(val_cnt_r[val_cnt_r.index > np.median(val_cnt.unique())/2], bins=100)\n",
    "sns.distplot(val_cnt_r[val_cnt_r.index <= np.median(val_cnt.unique())/2], bins=100)"
   ]
  },
  {
   "cell_type": "code",
   "execution_count": 610,
   "metadata": {},
   "outputs": [],
   "source": [
    "synthetic_cols = [6, 9, 12, 15, 23, 25, 27, 28, 34, 42, 43, 50, 53,\n",
    "                 57, 59, 64, 66, 68, 71, 78, 79, 91, 93, 95, 98, 103,\n",
    "                 105, 108, 111, 112, 114, 125, 130, 131, 132, 133, 144,\n",
    "                 148, 153, 156, 161, 162, 166, 169, 181, 189, 197]\n",
    "def separate_synthetic_dist(data, cols):\n",
    "    new_features = pd.DataFrame()\n",
    "    for icol in tqdm(cols):\n",
    "        tmp = np.zeros(len(data))\n",
    "        val_cnt = data.iloc[:, icol+1].value_counts(normalize=True)\n",
    "        cutoff = np.median(val_cnt.unique())/2\n",
    "        val_cnt_r = pd.Series(val_cnt.index.values, index=val_cnt)\n",
    "        syn_vals = val_cnt_r[val_cnt_r.index > cutoff]\n",
    "        val_range = (-1000, np.mean(syn_vals) - 1.5 * np.std(syn_vals), np.mean(syn_vals) + 1.5 * np.std(syn_vals), 10000)\n",
    "        print(val_range)\n",
    "#         tmp = np.abs(data.iloc[:, icol+1] - np.mean(syn_vals))\n",
    "        tmp = pd.cut(data.iloc[:, icol+1], val_range, labels=False)\n",
    "#         tmp = pd.cut(tmp, 3, labels=False)\n",
    "        new_features['syn_{}'.format(icol)] = tmp\n",
    "    return new_features\n",
    "\n",
    "def val_counts(data, cols):\n",
    "    new_features = pd.DataFrame()\n",
    "    for icol in tqdm(cols):\n",
    "#         val_cnt = data.iloc[:, icol+1].value_counts(normalize=True)\n",
    "        freq, bins = np.histogram(data.iloc[:, icol+1], bins=data.iloc[:, icol+1].nunique(), density=True)\n",
    "        bins[-1] = np.inf\n",
    "        cut_value = pd.cut(data.iloc[:, icol+1], bins, labels=False, right=False)\n",
    "        new_features['cnt_{}'.format(icol)] = cut_value.apply(lambda x: freq[int(x)])\n",
    "    return new_features\n",
    "\n",
    "def val_counts2(data, cols):\n",
    "    new_features = pd.DataFrame()\n",
    "    for icol in tqdm(cols):\n",
    "        val_cnt = data.iloc[:, icol+1].value_counts(normalize=True).to_dict()\n",
    "        new_features['cnt_{}'.format(icol)] = data.iloc[:, icol+1].replace(val_cnt)\n",
    "    return new_features"
   ]
  },
  {
   "cell_type": "code",
   "execution_count": 689,
   "metadata": {},
   "outputs": [],
   "source": [
    "def shuffle_col(data, cols):\n",
    "    new_features = pd.DataFrame(index=data.index)\n",
    "    for icol in tqdm(cols):\n",
    "        tmp_data = data.iloc[:, icol+1].copy()\n",
    "        break_point = tmp_data.median()\n",
    "        first_part =  tmp_data[tmp_data < break_point].copy()\n",
    "        second_part =  tmp_data[tmp_data >= break_point].copy()\n",
    "        first_part = pd.Series(np.random.permutation(first_part.values), first_part.index)\n",
    "        second_part = pd.Series(np.random.permutation(second_part.values), second_part.index)\n",
    "        new_data = pd.concat([first_part, second_part])\n",
    "        new_data.name = 'sfl_{}'.format(icol)\n",
    "        new_features = pd.merge(new_features, new_data, left_index=True, right_index=True)\n",
    "    return new_features"
   ]
  },
  {
   "cell_type": "code",
   "execution_count": 705,
   "metadata": {
    "scrolled": false
   },
   "outputs": [
    {
     "data": {
      "application/vnd.jupyter.widget-view+json": {
       "model_id": "52c62a91797b49338d2c37885f947e7a",
       "version_major": 2,
       "version_minor": 0
      },
      "text/plain": [
       "HBox(children=(IntProgress(value=0, max=5), HTML(value='')))"
      ]
     },
     "metadata": {},
     "output_type": "display_data"
    }
   ],
   "source": [
    "# syn_f = separate_synthetic_dist(train_data, cols=[12, 15, 23, 25, 24, 43, 68, 71, 91, \n",
    "#                                                   103, 125, 131, 133, 148, 161, 166, 169,])\n",
    "# cnt_f = val_counts(train_data, cols=[12, 15, 23, 25, 24, 43, 68, 71, 91, \n",
    "#                                                   103, 125, 131, 133, 148, 161, 166, 169,])\n",
    "# sfl_f = shuffle_col(train_data, np.random.randint(0, 199, 5))"
   ]
  },
  {
   "cell_type": "code",
   "execution_count": 765,
   "metadata": {},
   "outputs": [
    {
     "data": {
      "text/plain": [
       "0    23447\n",
       "1     4240\n",
       "Name: target, dtype: int64"
      ]
     },
     "execution_count": 765,
     "metadata": {},
     "output_type": "execute_result"
    }
   ],
   "source": [
    "y.loc[syn_f['syn_12'] == 0].value_counts()"
   ]
  },
  {
   "cell_type": "code",
   "execution_count": 595,
   "metadata": {},
   "outputs": [],
   "source": [
    "cnt_f.to_hdf(os.path.join(dir_data, 'cnt_f.hdf'), key='data')#.iloc[:,0].value_counts()"
   ]
  },
  {
   "cell_type": "markdown",
   "metadata": {},
   "source": [
    "# Counter distribution of peaks"
   ]
  },
  {
   "cell_type": "code",
   "execution_count": 141,
   "metadata": {},
   "outputs": [],
   "source": [
    "def extract_peak_id(data, plot=True):\n",
    "    if plot:\n",
    "        sns.distplot(data, bins=1000)\n",
    "    freq, bins = np.histogram(data, bins=1000)\n",
    "#     peaks = signal.find_peaks(freq, prominence=thres)\n",
    "    peak = np.argmax(freq)\n",
    "#     print(freq)\n",
    "    print(peak)\n",
    "    print(bins[peak])\n",
    "    return (bins[peak] < data) & (data < bins[peak+1])"
   ]
  },
  {
   "cell_type": "code",
   "execution_count": 121,
   "metadata": {},
   "outputs": [
    {
     "name": "stdout",
     "output_type": "stream",
     "text": [
      "98\n",
      "13.55415\n"
     ]
    },
    {
     "data": {
      "text/plain": [
       "0    1144\n",
       "1     363\n",
       "Name: target, dtype: int64"
      ]
     },
     "execution_count": 121,
     "metadata": {},
     "output_type": "execute_result"
    },
    {
     "data": {
      "image/png": "[encoded data removed]",
      "text/plain": [
       "<Figure size 432x288 with 1 Axes>"
      ]
     },
     "metadata": {
      "needs_background": "light"
     },
     "output_type": "display_data"
    }
   ],
   "source": [
    "y.loc[extract_peak_id(train_data['var_12'])].value_counts()"
   ]
  },
  {
   "cell_type": "code",
   "execution_count": 122,
   "metadata": {},
   "outputs": [
    {
     "name": "stdout",
     "output_type": "stream",
     "text": [
      "588\n",
      "12.251809\n"
     ]
    },
    {
     "data": {
      "text/plain": [
       "0    490\n",
       "1     84\n",
       "Name: target, dtype: int64"
      ]
     },
     "execution_count": 122,
     "metadata": {},
     "output_type": "execute_result"
    },
    {
     "data": {
      "image/png": "[encoded data removed]",
      "text/plain": [
       "<Figure size 432x288 with 1 Axes>"
      ]
     },
     "metadata": {
      "needs_background": "light"
     },
     "output_type": "display_data"
    }
   ],
   "source": [
    "y.loc[extract_peak_id(train_data['var_2'])].value_counts()"
   ]
  },
  {
   "cell_type": "code",
   "execution_count": 124,
   "metadata": {},
   "outputs": [
    {
     "name": "stdout",
     "output_type": "stream",
     "text": [
      "585\n",
      "10.7646675\n"
     ]
    },
    {
     "data": {
      "text/plain": [
       "0    633\n",
       "1     63\n",
       "Name: target, dtype: int64"
      ]
     },
     "execution_count": 124,
     "metadata": {},
     "output_type": "execute_result"
    },
    {
     "data": {
      "image/png": "[encoded data removed]",
      "text/plain": [
       "<Figure size 432x288 with 1 Axes>"
      ]
     },
     "metadata": {
      "needs_background": "light"
     },
     "output_type": "display_data"
    }
   ],
   "source": [
    "y.loc[extract_peak_id(train_data['var_16'])].value_counts()"
   ]
  },
  {
   "cell_type": "code",
   "execution_count": 16,
   "metadata": {},
   "outputs": [
    {
     "data": {
      "text/plain": [
       "<matplotlib.axes._subplots.AxesSubplot at 0x160fa04a8>"
      ]
     },
     "execution_count": 16,
     "metadata": {},
     "output_type": "execute_result"
    },
    {
     "data": {
      "image/png": "[encoded data removed]",
      "text/plain": [
       "<Figure size 432x288 with 1 Axes>"
      ]
     },
     "metadata": {
      "needs_background": "light"
     },
     "output_type": "display_data"
    }
   ],
   "source": [
    "sns.distplot(train_data['var_2'].iloc[0:100000], bins=1000)\n",
    "sns.distplot(train_data['var_2'].iloc[100000:], bins=1000)\n",
    "# sns.distplot(train_data['var_16'], bins=1000)"
   ]
  },
  {
   "cell_type": "code",
   "execution_count": 18,
   "metadata": {},
   "outputs": [
    {
     "data": {
      "text/plain": [
       "0    89917\n",
       "1    10083\n",
       "Name: target, dtype: int64"
      ]
     },
     "execution_count": 18,
     "metadata": {},
     "output_type": "execute_result"
    }
   ],
   "source": [
    "train_data.iloc[100000:, 0].value_counts()"
   ]
  },
  {
   "cell_type": "code",
   "execution_count": 761,
   "metadata": {},
   "outputs": [
    {
     "name": "stdout",
     "output_type": "stream",
     "text": [
      "98\n",
      "13.55415\n"
     ]
    },
    {
     "data": {
      "text/plain": [
       "<matplotlib.axes._subplots.AxesSubplot at 0x190ae9b00>"
      ]
     },
     "execution_count": 761,
     "metadata": {},
     "output_type": "execute_result"
    },
    {
     "data": {
      "image/png": "[encoded data removed]",
      "text/plain": [
       "<Figure size 432x288 with 1 Axes>"
      ]
     },
     "metadata": {
      "needs_background": "light"
     },
     "output_type": "display_data"
    }
   ],
   "source": [
    "sns.distplot(train_data['var_53'], bins=100)\n",
    "sns.distplot(train_data.loc[extract_peak_id(train_data['var_12'], plot=False), 'var_53'], bins=100)"
   ]
  },
  {
   "cell_type": "code",
   "execution_count": 744,
   "metadata": {},
   "outputs": [
    {
     "name": "stdout",
     "output_type": "stream",
     "text": [
      "98\n",
      "13.55415\n"
     ]
    }
   ],
   "source": [
    "peak_corr = train_data.loc[extract_peak_id(train_data['var_12'], plot=False)].corr()"
   ]
  },
  {
   "cell_type": "code",
   "execution_count": 767,
   "metadata": {},
   "outputs": [],
   "source": [
    "counter_dev = peak_val_13.describe().T['std']/basic_stats['std']"
   ]
  },
  {
   "cell_type": "code",
   "execution_count": 769,
   "metadata": {},
   "outputs": [
    {
     "data": {
      "text/plain": [
       "var_13     0.001803\n",
       "var_161    0.934354\n",
       "var_40     0.948581\n",
       "var_39     0.950671\n",
       "var_95     0.952689\n",
       "Name: std, dtype: float64"
      ]
     },
     "execution_count": 769,
     "metadata": {},
     "output_type": "execute_result"
    }
   ],
   "source": [
    "np.abs(counter_dev).sort_values().head()"
   ]
  },
  {
   "cell_type": "markdown",
   "metadata": {},
   "source": [
    "# Unique values"
   ]
  },
  {
   "cell_type": "code",
   "execution_count": 10,
   "metadata": {},
   "outputs": [
    {
     "data": {
      "text/plain": [
       "<matplotlib.axes._subplots.AxesSubplot at 0x136e930b8>"
      ]
     },
     "execution_count": 10,
     "metadata": {},
     "output_type": "execute_result"
    },
    {
     "data": {
      "image/png": "[encoded data removed]",
      "text/plain": [
       "<Figure size 432x288 with 1 Axes>"
      ]
     },
     "metadata": {
      "needs_background": "light"
     },
     "output_type": "display_data"
    }
   ],
   "source": [
    "sns.distplot(train_data['var_0'], bins=1000)\n",
    "sns.distplot(train_data['var_2'], bins=1000)\n",
    "sns.distplot(train_data['var_16'], bins=1000)"
   ]
  },
  {
   "cell_type": "code",
   "execution_count": 11,
   "metadata": {},
   "outputs": [],
   "source": [
    "common_val2 = list(set(train_data['var_0'].unique()) & set(train_data['var_2'].unique()))\n",
    "common_val3 = list(set(train_data['var_0'].unique()) & set(train_data['var_2'].unique()) & set(train_data['var_16'].unique()))"
   ]
  },
  {
   "cell_type": "code",
   "execution_count": 12,
   "metadata": {},
   "outputs": [],
   "source": [
    "common_val_0 = list(set(train0['var_0'].unique()) & set(train0['var_2'].unique()) & set(train0['var_16'].unique()))\n",
    "common_val_1 = list(set(train1['var_0'].unique()) & set(train1['var_2'].unique()) & set(train1['var_16'].unique()))"
   ]
  },
  {
   "cell_type": "code",
   "execution_count": 13,
   "metadata": {},
   "outputs": [
    {
     "data": {
      "text/plain": [
       "(18473,)"
      ]
     },
     "execution_count": 13,
     "metadata": {},
     "output_type": "execute_result"
    }
   ],
   "source": [
    "unique_21 = train1['var_0'].unique()\n",
    "unique_21.shape\n",
    "# unique_22 = train1.iloc[10000:]['var_0'].unique()\n",
    "# unique_21.shape, unique_22.shape, len(list(set(unique_21) & set(unique_22)))"
   ]
  },
  {
   "cell_type": "code",
   "execution_count": 14,
   "metadata": {},
   "outputs": [
    {
     "data": {
      "text/plain": [
       "0    30108\n",
       "1    20098\n",
       "Name: target, dtype: int64"
      ]
     },
     "execution_count": 14,
     "metadata": {},
     "output_type": "execute_result"
    }
   ],
   "source": [
    "train_data.loc[train_data['var_0'].isin(unique_21), 'target'].value_counts()"
   ]
  },
  {
   "cell_type": "markdown",
   "metadata": {},
   "source": [
    "## ~~これか...！~~"
   ]
  },
  {
   "cell_type": "code",
   "execution_count": 15,
   "metadata": {},
   "outputs": [
    {
     "ename": "NameError",
     "evalue": "name 'unique_22' is not defined",
     "output_type": "error",
     "traceback": [
      "\u001b[0;31m---------------------------------------------------------------------------\u001b[0m",
      "\u001b[0;31mNameError\u001b[0m                                 Traceback (most recent call last)",
      "\u001b[0;32m<ipython-input-15-7b9d1d41cd70>\u001b[0m in \u001b[0;36m<module>\u001b[0;34m\u001b[0m\n\u001b[0;32m----> 1\u001b[0;31m \u001b[0msns\u001b[0m\u001b[0;34m.\u001b[0m\u001b[0mdistplot\u001b[0m\u001b[0;34m(\u001b[0m\u001b[0mlist\u001b[0m\u001b[0;34m(\u001b[0m\u001b[0mset\u001b[0m\u001b[0;34m(\u001b[0m\u001b[0munique_21\u001b[0m\u001b[0;34m)\u001b[0m \u001b[0;34m&\u001b[0m \u001b[0mset\u001b[0m\u001b[0;34m(\u001b[0m\u001b[0munique_22\u001b[0m\u001b[0;34m)\u001b[0m\u001b[0;34m)\u001b[0m\u001b[0;34m)\u001b[0m\u001b[0;34m\u001b[0m\u001b[0;34m\u001b[0m\u001b[0m\n\u001b[0m\u001b[1;32m      2\u001b[0m \u001b[0msns\u001b[0m\u001b[0;34m.\u001b[0m\u001b[0mdistplot\u001b[0m\u001b[0;34m(\u001b[0m\u001b[0mtrain1\u001b[0m\u001b[0;34m[\u001b[0m\u001b[0;34m'var_0'\u001b[0m\u001b[0;34m]\u001b[0m\u001b[0;34m)\u001b[0m\u001b[0;34m\u001b[0m\u001b[0;34m\u001b[0m\u001b[0m\n",
      "\u001b[0;31mNameError\u001b[0m: name 'unique_22' is not defined"
     ]
    }
   ],
   "source": [
    "sns.distplot(list(set(unique_21) & set(unique_22)))\n",
    "sns.distplot(train1['var_0'])"
   ]
  },
  {
   "cell_type": "code",
   "execution_count": 16,
   "metadata": {},
   "outputs": [
    {
     "data": {
      "text/plain": [
       "0    990\n",
       "1    543\n",
       "Name: target, dtype: int64"
      ]
     },
     "execution_count": 16,
     "metadata": {},
     "output_type": "execute_result"
    }
   ],
   "source": [
    "train_data.loc[train_data['var_0'].isin(common_val_1), 'target'].value_counts()"
   ]
  },
  {
   "cell_type": "code",
   "execution_count": 51,
   "metadata": {},
   "outputs": [
    {
     "data": {
      "text/plain": [
       "(551,)"
      ]
     },
     "execution_count": 51,
     "metadata": {},
     "output_type": "execute_result"
    }
   ],
   "source": [
    "test_lb = test_data.iloc[np.concatenate([public_lb_idx, private_lb_idx])]\n",
    "test_lb.loc[test_lb['var_0'].isin(common_val_1), 'var_0'].shape"
   ]
  },
  {
   "cell_type": "code",
   "execution_count": 814,
   "metadata": {
    "scrolled": true
   },
   "outputs": [
    {
     "name": "stdout",
     "output_type": "stream",
     "text": [
      "94672\n",
      "86555\n",
      "86918\n",
      "66546\n",
      "65251\n",
      "63098\n",
      "52141\n"
     ]
    }
   ],
   "source": [
    "print(len(set(train_data['var_0'].unique())))\n",
    "print(len(set(train_data['var_2'].unique())))\n",
    "print(len(set(train_data['var_16'].unique())))\n",
    "print(len(common_val2))\n",
    "print(len(set(train_data['var_0'].unique()) & set(train_data['var_16'].unique())))\n",
    "print(len(set(train_data['var_2'].unique()) & set(train_data['var_16'].unique())))\n",
    "print(len(common_val3))"
   ]
  },
  {
   "cell_type": "code",
   "execution_count": 908,
   "metadata": {},
   "outputs": [
    {
     "data": {
      "text/plain": [
       "<matplotlib.axes._subplots.AxesSubplot at 0x20aaf8d30>"
      ]
     },
     "execution_count": 908,
     "metadata": {},
     "output_type": "execute_result"
    },
    {
     "data": {
      "image/png": "[encoded data removed]",
      "text/plain": [
       "<Figure size 432x288 with 1 Axes>"
      ]
     },
     "metadata": {
      "needs_background": "light"
     },
     "output_type": "display_data"
    }
   ],
   "source": [
    "sns.distplot(train_data['var_0'], bins=1000)\n",
    "sns.distplot(train_data['var_2'], bins=1000)\n",
    "sns.distplot(train_data['var_16'], bins=1000)\n",
    "# sns.distplot(common_val2, color='red', bins=1000)\n",
    "# sns.distplot(common_val3, color='red', bins=1000)"
   ]
  },
  {
   "cell_type": "code",
   "execution_count": 907,
   "metadata": {},
   "outputs": [
    {
     "data": {
      "text/plain": [
       "<matplotlib.axes._subplots.AxesSubplot at 0x2096e2208>"
      ]
     },
     "execution_count": 907,
     "metadata": {},
     "output_type": "execute_result"
    },
    {
     "data": {
      "image/png": "[encoded data removed]",
      "text/plain": [
       "<Figure size 432x288 with 1 Axes>"
      ]
     },
     "metadata": {
      "needs_background": "light"
     },
     "output_type": "display_data"
    }
   ],
   "source": [
    "# sns.distplot(train_data.loc[~train_data['var_16'].isin(common_val3), 'var_0'], bins=1000)\n",
    "sns.distplot(train_data.loc[~train_data['var_16'].isin(common_val3) & (train_data['target'] == 1), 'var_0'], bins=1000)\n",
    "sns.distplot(train_data.loc[~train_data['var_16'].isin(common_val3) & (train_data['target'] == 0), 'var_0'], bins=1000)"
   ]
  },
  {
   "cell_type": "code",
   "execution_count": 21,
   "metadata": {},
   "outputs": [
    {
     "data": {
      "text/plain": [
       "0    113677\n",
       "1     11771\n",
       "Name: target, dtype: int64"
      ]
     },
     "execution_count": 21,
     "metadata": {},
     "output_type": "execute_result"
    }
   ],
   "source": [
    "train_data.loc[train_data['var_0'].isin(common_val3), 'target'].value_counts()"
   ]
  },
  {
   "cell_type": "code",
   "execution_count": null,
   "metadata": {},
   "outputs": [],
   "source": [
    "train_data.loc[~train_data[''].isin(common_val3), 'target'].value_counts()"
   ]
  },
  {
   "cell_type": "code",
   "execution_count": 30,
   "metadata": {},
   "outputs": [],
   "source": [
    "def common_value_features(data, value_list):\n",
    "    new_features = pd.DataFrame()\n",
    "    for col in tqdm(data.columns):\n",
    "        if col == 'target':\n",
    "            continue\n",
    "        new_features['cmn_'+col] = data[col].isin(value_list).astype(np.int8)\n",
    "    return new_features"
   ]
  },
  {
   "cell_type": "code",
   "execution_count": 31,
   "metadata": {},
   "outputs": [
    {
     "data": {
      "application/vnd.jupyter.widget-view+json": {
       "model_id": "9e4473d2c7da42f89b7d6b47a57f3bfe",
       "version_major": 2,
       "version_minor": 0
      },
      "text/plain": [
       "HBox(children=(IntProgress(value=0, max=201), HTML(value='')))"
      ]
     },
     "metadata": {},
     "output_type": "display_data"
    },
    {
     "name": "stdout",
     "output_type": "stream",
     "text": [
      "\n"
     ]
    }
   ],
   "source": [
    "cmn_f = common_value_features(train_data, common_val3)"
   ]
  },
  {
   "cell_type": "code",
   "execution_count": 37,
   "metadata": {},
   "outputs": [],
   "source": [
    "cmn_f.to_hdf('rawdata/cmn_f.hdf', key='data')"
   ]
  },
  {
   "cell_type": "code",
   "execution_count": 792,
   "metadata": {},
   "outputs": [
    {
     "data": {
      "text/plain": [
       "<matplotlib.axes._subplots.AxesSubplot at 0x19775f400>"
      ]
     },
     "execution_count": 792,
     "metadata": {},
     "output_type": "execute_result"
    },
    {
     "data": {
      "image/png": "[encoded data removed]",
      "text/plain": [
       "<Figure size 432x288 with 1 Axes>"
      ]
     },
     "metadata": {
      "needs_background": "light"
     },
     "output_type": "display_data"
    }
   ],
   "source": [
    "sns.distplot(random_data[0], bins=1000)\n",
    "sns.distplot(random_data[1], bins=1000)\n",
    "sns.distplot(random_data[2], bins=1000)"
   ]
  },
  {
   "cell_type": "code",
   "execution_count": 796,
   "metadata": {},
   "outputs": [
    {
     "name": "stdout",
     "output_type": "stream",
     "text": [
      "123026\n",
      "139126\n",
      "139410\n",
      "68584\n",
      "63751\n",
      "54985\n",
      "33268\n"
     ]
    }
   ],
   "source": [
    "print(len(set(random_data[0].unique())))\n",
    "print(len(set(random_data[1].unique())))\n",
    "print(len(set(random_data[2].unique())))\n",
    "print(len(set(random_data[1].unique()) & set(random_data[0].unique())))\n",
    "print(len(set(random_data[2].unique()) & set(random_data[1].unique())))\n",
    "print(len(set(random_data[2].unique()) & set(random_data[0].unique())))\n",
    "print(len(set(random_data[2].unique()) & set(random_data[1].unique()) & set(random_data[0].unique())))"
   ]
  },
  {
   "cell_type": "code",
   "execution_count": 864,
   "metadata": {},
   "outputs": [],
   "source": [
    "def valcnt_features(data):\n",
    "    new_features = pd.DataFrame()\n",
    "    for col in tqdm(data.columns):\n",
    "        if col == 'target':\n",
    "            continue\n",
    "        cnt = data[col].value_counts(normalize=True)\n",
    "        new_features['cnt_'+col] = data[col].apply(lambda x: cnt[x])\n",
    "    return new_features\n",
    "\n",
    "def valcnt_features_mt(data):\n",
    "    cnt = data.value_counts(normalize=True)\n",
    "    return data.apply(lambda x: cnt[x])"
   ]
  },
  {
   "cell_type": "code",
   "execution_count": 857,
   "metadata": {},
   "outputs": [
    {
     "data": {
      "application/vnd.jupyter.widget-view+json": {
       "model_id": "0f956979289447298498232fc194f6f1",
       "version_major": 2,
       "version_minor": 0
      },
      "text/plain": [
       "HBox(children=(IntProgress(value=0, max=201), HTML(value='')))"
      ]
     },
     "metadata": {},
     "output_type": "display_data"
    }
   ],
   "source": [
    "cnt_f = valcnt_features(train_data)"
   ]
  },
  {
   "cell_type": "code",
   "execution_count": 871,
   "metadata": {},
   "outputs": [
    {
     "name": "stdout",
     "output_type": "stream",
     "text": [
      "thread_count: 8\n"
     ]
    },
    {
     "data": {
      "application/vnd.jupyter.widget-view+json": {
       "model_id": "ab70908983034d1391473822ba3821a3",
       "version_major": 2,
       "version_minor": 0
      },
      "text/plain": [
       "HBox(children=(IntProgress(value=0, max=200), HTML(value='')))"
      ]
     },
     "metadata": {},
     "output_type": "display_data"
    }
   ],
   "source": [
    "cnt_f_test = parallel_apply(test_data.iloc[np.concatenate([public_lb_idx, private_lb_idx])], valcnt_features_mt, axis='columns')"
   ]
  },
  {
   "cell_type": "code",
   "execution_count": 859,
   "metadata": {},
   "outputs": [],
   "source": [
    "# cnt_f.to_hdf('rawdata/cnt_f.hdf', key='data')"
   ]
  },
  {
   "cell_type": "code",
   "execution_count": 873,
   "metadata": {},
   "outputs": [],
   "source": [
    "cnt_f_test.to_hdf('rawdata/cnt_f_test.hdf', key='data')"
   ]
  },
  {
   "cell_type": "code",
   "execution_count": null,
   "metadata": {},
   "outputs": [],
   "source": []
  }
 ],
 "metadata": {
  "kernelspec": {
   "display_name": "Python 3",
   "language": "python",
   "name": "python3"
  }
 },
 "nbformat": 4,
 "nbformat_minor": 2
}
